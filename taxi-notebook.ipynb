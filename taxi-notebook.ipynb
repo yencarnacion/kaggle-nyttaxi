{
 "cells": [
  {
   "cell_type": "markdown",
   "metadata": {},
   "source": [
    "Ideas\n",
    "maybe just focus on middle 97.5 of fare_amount"
   ]
  },
  {
   "cell_type": "code",
   "execution_count": null,
   "metadata": {},
   "outputs": [],
   "source": [
    "import pandas as pd\n",
    "import numpy as np\n",
    "#import matplotlib.pyplot as plt\n",
    "import re\n",
    "import gc\n",
    "#%matplotlib inline"
   ]
  },
  {
   "cell_type": "code",
   "execution_count": null,
   "metadata": {},
   "outputs": [],
   "source": [
    "!head train10k.csv"
   ]
  },
  {
   "cell_type": "code",
   "execution_count": null,
   "metadata": {},
   "outputs": [],
   "source": [
    "%%time \n",
    "#train = pd.read_csv('train.csv', sep=',', header=0, parse_dates=['pickup_datetime'], \n",
    "#                    dtype={'key':np.str,'fare_amount':np.float64,'pickup_datetime': np.str,\n",
    "#                    'pickup_longitude': np.str, 'pickup_latitude': np.str,\n",
    "#                    'dropoff_longitude': np.str, 'dropoff_latitude': np.str,\n",
    "#                    'passenger_count': np.int})\n",
    "train = pd.read_csv('train.csv', sep=',', header=0, \n",
    "                    dtype={'key':np.str,'fare_amount':np.str,'pickup_datetime': np.str,\n",
    "                    'pickup_longitude': np.str, 'pickup_latitude': np.str,\n",
    "                    'dropoff_longitude': np.str, 'dropoff_latitude': np.str,\n",
    "                    'passenger_count': np.str})"
   ]
  },
  {
   "cell_type": "code",
   "execution_count": null,
   "metadata": {},
   "outputs": [],
   "source": [
    "%%time\n",
    "train['pickup_datetime'] = pd.to_datetime(train['pickup_datetime'], format='%Y-%m-%d %H:%M:%S %Z')"
   ]
  },
  {
   "cell_type": "code",
   "execution_count": null,
   "metadata": {},
   "outputs": [],
   "source": [
    "%%time\n",
    "# https://pandas.pydata.org/pandas-docs/stable/generated/pandas.Series.dt.weekday.html\n",
    "# The day of the week with Monday=0, Sunday=6\n",
    "train['pickup_day_of_week'] = train['pickup_datetime'].dt.weekday"
   ]
  },
  {
   "cell_type": "code",
   "execution_count": null,
   "metadata": {},
   "outputs": [],
   "source": [
    "train['pickup_day'] = train['pickup_datetime'].dt.day"
   ]
  },
  {
   "cell_type": "code",
   "execution_count": null,
   "metadata": {},
   "outputs": [],
   "source": [
    "%%time\n",
    "# https://pandas.pydata.org/pandas-docs/stable/generated/pandas.Series.dt.month.html\n",
    "# The month as January=1, December=12\n",
    "train['pickup_month'] = train['pickup_datetime'].dt.month"
   ]
  },
  {
   "cell_type": "code",
   "execution_count": null,
   "metadata": {},
   "outputs": [],
   "source": [
    "train['pickup_hour'] = train['pickup_datetime'].dt.hour"
   ]
  },
  {
   "cell_type": "code",
   "execution_count": null,
   "metadata": {},
   "outputs": [],
   "source": [
    "train['pickup_minute_section'] = train['pickup_datetime'].dt.minute\n",
    "train['pickup_minute_section'] = train['pickup_minute_section'].map(lambda x: 1 if x < 10 else (2 if x >= 10 and x < 20 else (3 if x >= 20 and x<30 else (4 if x >= 30 and x < 40 else (5 if x >= 40 and x < 50 else (6))))))"
   ]
  },
  {
   "cell_type": "code",
   "execution_count": null,
   "metadata": {},
   "outputs": [],
   "source": [
    "train.drop(['pickup_datetime'], axis=1, inplace=True)"
   ]
  },
  {
   "cell_type": "code",
   "execution_count": null,
   "metadata": {},
   "outputs": [],
   "source": [
    "gc.collect()"
   ]
  },
  {
   "cell_type": "code",
   "execution_count": null,
   "metadata": {},
   "outputs": [],
   "source": [
    "# Drop rows with bad pickup locations\n",
    "pattern = re.compile('^[-]?[0-9]+[.][0-9]+$')\n",
    "train['pickup_longitude_problem'] = train['pickup_longitude'].map(lambda x: 1 if pattern.match(x) == None else 0)\n",
    "train.drop(train[train['pickup_longitude_problem'] == 1].index, inplace=True)\n",
    "train.drop(['pickup_longitude_problem'], axis=1, inplace=True)"
   ]
  },
  {
   "cell_type": "code",
   "execution_count": null,
   "metadata": {},
   "outputs": [],
   "source": [
    "train['pickup_longitude_whole'] = train['pickup_longitude'].map(lambda x: np.int16(x.split('.')[0]))"
   ]
  },
  {
   "cell_type": "code",
   "execution_count": null,
   "metadata": {},
   "outputs": [],
   "source": [
    "train['pickup_longitude_mantissa'] = train['pickup_longitude'].map(lambda x: np.str(x.split('.')[1].ljust(6,'0')))"
   ]
  },
  {
   "cell_type": "code",
   "execution_count": null,
   "metadata": {},
   "outputs": [],
   "source": [
    "train.drop(['pickup_longitude'], axis=1, inplace=True)"
   ]
  },
  {
   "cell_type": "code",
   "execution_count": null,
   "metadata": {},
   "outputs": [],
   "source": [
    "gc.collect()"
   ]
  },
  {
   "cell_type": "code",
   "execution_count": null,
   "metadata": {},
   "outputs": [],
   "source": [
    "train['pickup_longitude_mantissa_1'] = train['pickup_longitude_mantissa'].map(lambda x: np.int8(x[0:1]))"
   ]
  },
  {
   "cell_type": "code",
   "execution_count": null,
   "metadata": {},
   "outputs": [],
   "source": [
    "train['pickup_longitude_mantissa_2'] = train['pickup_longitude_mantissa'].map(lambda x: np.int8(x[1:2]))"
   ]
  },
  {
   "cell_type": "code",
   "execution_count": null,
   "metadata": {},
   "outputs": [],
   "source": [
    "train['pickup_longitude_mantissa_3'] = train['pickup_longitude_mantissa'].map(lambda x: np.int8(x[2:3]))"
   ]
  },
  {
   "cell_type": "code",
   "execution_count": null,
   "metadata": {},
   "outputs": [],
   "source": [
    "train['pickup_longitude_mantissa_4'] = train['pickup_longitude_mantissa'].map(lambda x: np.int8(x[3:4]))"
   ]
  },
  {
   "cell_type": "code",
   "execution_count": null,
   "metadata": {},
   "outputs": [],
   "source": [
    "train['pickup_longitude_mantissa_5'] = train['pickup_longitude_mantissa'].map(lambda x: np.int8(x[4:5]))"
   ]
  },
  {
   "cell_type": "code",
   "execution_count": null,
   "metadata": {},
   "outputs": [],
   "source": [
    "train['pickup_longitude_mantissa_6'] = train['pickup_longitude_mantissa'].map(lambda x: np.int8(x[5:6]))"
   ]
  },
  {
   "cell_type": "code",
   "execution_count": null,
   "metadata": {},
   "outputs": [],
   "source": [
    "train.drop(['pickup_longitude_mantissa'], axis=1, inplace=True)"
   ]
  },
  {
   "cell_type": "code",
   "execution_count": null,
   "metadata": {},
   "outputs": [],
   "source": [
    "gc.collect()"
   ]
  },
  {
   "cell_type": "code",
   "execution_count": null,
   "metadata": {},
   "outputs": [],
   "source": [
    "# Drop rows with bad pickup locations\n",
    "pattern = re.compile('^[-]?[0-9]+\\.[0-9]+$')\n",
    "train['pickup_latitude_problem'] = train['pickup_latitude'].map(lambda x: 1 if pattern.match(x) == None else 0)\n",
    "train.drop(train[train['pickup_latitude_problem'] == 1].index, inplace=True)\n",
    "train.drop(['pickup_latitude_problem'], axis=1, inplace=True)"
   ]
  },
  {
   "cell_type": "code",
   "execution_count": null,
   "metadata": {},
   "outputs": [],
   "source": [
    "gc.collect()"
   ]
  },
  {
   "cell_type": "code",
   "execution_count": null,
   "metadata": {},
   "outputs": [],
   "source": [
    "train['pickup_latitude_whole'] = train['pickup_latitude'].map(lambda x: np.int16(x.split('.')[0]))"
   ]
  },
  {
   "cell_type": "code",
   "execution_count": null,
   "metadata": {},
   "outputs": [],
   "source": [
    "train['pickup_latitude_mantissa'] = train['pickup_latitude'].map(lambda x: np.str(x.split('.')[1].ljust(6,'0')))"
   ]
  },
  {
   "cell_type": "code",
   "execution_count": null,
   "metadata": {},
   "outputs": [],
   "source": [
    "train.drop(['pickup_latitude'], axis=1, inplace=True)"
   ]
  },
  {
   "cell_type": "code",
   "execution_count": null,
   "metadata": {},
   "outputs": [],
   "source": [
    "train['pickup_latitude_mantissa_1'] = train['pickup_latitude_mantissa'].map(lambda x: np.int8(x[0:1]))"
   ]
  },
  {
   "cell_type": "code",
   "execution_count": null,
   "metadata": {},
   "outputs": [],
   "source": [
    "train['pickup_latitude_mantissa_2'] = train['pickup_latitude_mantissa'].map(lambda x: np.int8(x[1:2]))"
   ]
  },
  {
   "cell_type": "code",
   "execution_count": null,
   "metadata": {},
   "outputs": [],
   "source": [
    "train['pickup_latitude_mantissa_3'] = train['pickup_latitude_mantissa'].map(lambda x: np.int8(x[2:3]))"
   ]
  },
  {
   "cell_type": "code",
   "execution_count": null,
   "metadata": {},
   "outputs": [],
   "source": [
    "train['pickup_latitude_mantissa_4'] = train['pickup_latitude_mantissa'].map(lambda x: np.int8(x[3:4]))"
   ]
  },
  {
   "cell_type": "code",
   "execution_count": null,
   "metadata": {},
   "outputs": [],
   "source": [
    "train['pickup_latitude_mantissa_5'] = train['pickup_latitude_mantissa'].map(lambda x: np.int8(x[4:5]))"
   ]
  },
  {
   "cell_type": "code",
   "execution_count": null,
   "metadata": {},
   "outputs": [],
   "source": [
    "train['pickup_latitude_mantissa_6'] = train['pickup_latitude_mantissa'].map(lambda x: np.int8(x[5:6]))"
   ]
  },
  {
   "cell_type": "code",
   "execution_count": null,
   "metadata": {},
   "outputs": [],
   "source": [
    "train.drop(['pickup_latitude_mantissa'], axis=1, inplace=True)"
   ]
  },
  {
   "cell_type": "code",
   "execution_count": null,
   "metadata": {},
   "outputs": [],
   "source": [
    "gc.collect()"
   ]
  },
  {
   "cell_type": "code",
   "execution_count": null,
   "metadata": {},
   "outputs": [],
   "source": [
    "# Drop rows with bad dropoff locations\n",
    "pattern = re.compile('^[-]?[0-9]+\\.[0-9]+$')\n",
    "def detect_problem(x):\n",
    "    try:\n",
    "        if pattern.match(x) == None:\n",
    "            return 1\n",
    "        else:\n",
    "            return 0\n",
    "    except:\n",
    "        return 1\n",
    "    return 1"
   ]
  },
  {
   "cell_type": "code",
   "execution_count": null,
   "metadata": {},
   "outputs": [],
   "source": [
    "train['dropoff_longitude_problem'] = train['dropoff_longitude'].map(detect_problem)\n",
    "train.drop(train[train['dropoff_longitude_problem'] == 1].index, inplace=True)\n",
    "train.drop(['dropoff_longitude_problem'], axis=1, inplace=True)"
   ]
  },
  {
   "cell_type": "code",
   "execution_count": null,
   "metadata": {},
   "outputs": [],
   "source": [
    "train['dropoff_longitude_whole'] = train['dropoff_longitude'].map(lambda x: np.int16(x.split('.')[0]))"
   ]
  },
  {
   "cell_type": "code",
   "execution_count": null,
   "metadata": {},
   "outputs": [],
   "source": [
    "train['dropoff_longitude_mantissa'] = train['dropoff_longitude'].map(lambda x: np.str(x.split('.')[1].ljust(6,'0')))"
   ]
  },
  {
   "cell_type": "code",
   "execution_count": null,
   "metadata": {},
   "outputs": [],
   "source": [
    "train.drop(['dropoff_longitude'], axis=1, inplace=True)"
   ]
  },
  {
   "cell_type": "code",
   "execution_count": null,
   "metadata": {},
   "outputs": [],
   "source": [
    "gc.collect()"
   ]
  },
  {
   "cell_type": "code",
   "execution_count": null,
   "metadata": {},
   "outputs": [],
   "source": [
    "train['dropoff_longitude_mantissa_1'] = train['dropoff_longitude_mantissa'].map(lambda x: np.int8(x[0:1]))"
   ]
  },
  {
   "cell_type": "code",
   "execution_count": null,
   "metadata": {},
   "outputs": [],
   "source": [
    "train['dropoff_longitude_mantissa_2'] = train['dropoff_longitude_mantissa'].map(lambda x: np.int8(x[1:2]))"
   ]
  },
  {
   "cell_type": "code",
   "execution_count": null,
   "metadata": {},
   "outputs": [],
   "source": [
    "train['dropoff_longitude_mantissa_3'] = train['dropoff_longitude_mantissa'].map(lambda x: np.int8(x[2:3]))"
   ]
  },
  {
   "cell_type": "code",
   "execution_count": null,
   "metadata": {},
   "outputs": [],
   "source": [
    "train['dropoff_longitude_mantissa_4'] = train['dropoff_longitude_mantissa'].map(lambda x: np.int8(x[3:4]))"
   ]
  },
  {
   "cell_type": "code",
   "execution_count": null,
   "metadata": {},
   "outputs": [],
   "source": [
    "train['dropoff_longitude_mantissa_5'] = train['dropoff_longitude_mantissa'].map(lambda x: np.int8(x[4:5]))"
   ]
  },
  {
   "cell_type": "code",
   "execution_count": null,
   "metadata": {},
   "outputs": [],
   "source": [
    "train['dropoff_longitude_mantissa_6'] = train['dropoff_longitude_mantissa'].map(lambda x: np.int8(x[5:6]))"
   ]
  },
  {
   "cell_type": "code",
   "execution_count": null,
   "metadata": {},
   "outputs": [],
   "source": [
    "gc.collect()"
   ]
  },
  {
   "cell_type": "code",
   "execution_count": null,
   "metadata": {},
   "outputs": [],
   "source": [
    "train.drop(['dropoff_longitude_mantissa'], axis=1, inplace=True)"
   ]
  },
  {
   "cell_type": "code",
   "execution_count": null,
   "metadata": {},
   "outputs": [],
   "source": [
    "gc.collect()"
   ]
  },
  {
   "cell_type": "code",
   "execution_count": null,
   "metadata": {},
   "outputs": [],
   "source": [
    "# Drop rows with bad dropoff locations\n",
    "pattern = re.compile('^[-]?[0-9]+\\.[0-9]+$')\n",
    "def detect_problem(x):\n",
    "    try:\n",
    "        if pattern.match(x) == None:\n",
    "            return 1\n",
    "        else:\n",
    "            return 0\n",
    "    except:\n",
    "        return 1\n",
    "    return 1\n",
    "train['dropoff_latitude_problem'] = train['dropoff_latitude'].map(detect_problem)\n",
    "train.drop(train[train['dropoff_latitude_problem'] == 1].index, inplace=True)\n",
    "train.drop(['dropoff_latitude_problem'], axis=1, inplace=True)"
   ]
  },
  {
   "cell_type": "code",
   "execution_count": null,
   "metadata": {},
   "outputs": [],
   "source": [
    "train['dropoff_latitude_whole'] = train['dropoff_latitude'].map(lambda x: np.int16(x.split('.')[0]))"
   ]
  },
  {
   "cell_type": "code",
   "execution_count": null,
   "metadata": {},
   "outputs": [],
   "source": [
    "train['dropoff_latitude_mantissa'] = train['dropoff_latitude'].map(lambda x: np.str(x.split('.')[1].ljust(6,'0')))"
   ]
  },
  {
   "cell_type": "code",
   "execution_count": null,
   "metadata": {},
   "outputs": [],
   "source": [
    "# **stops here with memory error**\n",
    "train.drop(['dropoff_latitude'], axis=1, inplace=True)"
   ]
  },
  {
   "cell_type": "code",
   "execution_count": null,
   "metadata": {},
   "outputs": [],
   "source": [
    "gc.collect()"
   ]
  },
  {
   "cell_type": "code",
   "execution_count": null,
   "metadata": {},
   "outputs": [],
   "source": [
    "train['dropoff_latitude_mantissa_1'] = train['dropoff_latitude_mantissa'].map(lambda x: np.int8(x[0:1]))"
   ]
  },
  {
   "cell_type": "code",
   "execution_count": null,
   "metadata": {},
   "outputs": [],
   "source": [
    "train['dropoff_latitude_mantissa_2'] = train['dropoff_latitude_mantissa'].map(lambda x: np.int8(x[1:2]))"
   ]
  },
  {
   "cell_type": "code",
   "execution_count": null,
   "metadata": {},
   "outputs": [],
   "source": [
    "train['dropoff_latitude_mantissa_3'] = train['dropoff_latitude_mantissa'].map(lambda x: np.int8(x[2:3]))"
   ]
  },
  {
   "cell_type": "code",
   "execution_count": null,
   "metadata": {},
   "outputs": [],
   "source": [
    "train['dropoff_latitude_mantissa_4'] = train['dropoff_latitude_mantissa'].map(lambda x: np.int8(x[3:4]))"
   ]
  },
  {
   "cell_type": "code",
   "execution_count": null,
   "metadata": {},
   "outputs": [],
   "source": [
    "train['dropoff_latitude_mantissa_5'] = train['dropoff_latitude_mantissa'].map(lambda x: np.int8(x[4:5]))"
   ]
  },
  {
   "cell_type": "code",
   "execution_count": null,
   "metadata": {},
   "outputs": [],
   "source": [
    "train['dropoff_latitude_mantissa_6'] = train['dropoff_latitude_mantissa'].map(lambda x: np.int8(x[5:6]))"
   ]
  },
  {
   "cell_type": "code",
   "execution_count": null,
   "metadata": {},
   "outputs": [],
   "source": [
    "gc.collect()"
   ]
  },
  {
   "cell_type": "code",
   "execution_count": null,
   "metadata": {},
   "outputs": [],
   "source": [
    "train.drop(['dropoff_latitude_mantissa'], axis=1, inplace=True)"
   ]
  },
  {
   "cell_type": "code",
   "execution_count": null,
   "metadata": {},
   "outputs": [],
   "source": [
    "%%time\n",
    "train['fare_amount'] = train['fare_amount'].astype(np.float64)"
   ]
  },
  {
   "cell_type": "code",
   "execution_count": null,
   "metadata": {},
   "outputs": [],
   "source": [
    "%%time\n",
    "train['fare_amount_bin'] = train['fare_amount'].map(np.ceil).astype(np.int)"
   ]
  },
  {
   "cell_type": "code",
   "execution_count": null,
   "metadata": {},
   "outputs": [],
   "source": [
    "# there are trips with negative fare\n",
    "train['negative_fares']=train['fare_amount'].map(lambda x: 1 if x<0 else 0)\n",
    "train.drop(train[train['negative_fares'] == 1].index, inplace=True)\n",
    "train.drop(['negative_fares'], axis=1, inplace=True)"
   ]
  },
  {
   "cell_type": "code",
   "execution_count": null,
   "metadata": {},
   "outputs": [],
   "source": [
    "train.drop(['fare_amount'], axis=1, inplace=True)"
   ]
  },
  {
   "cell_type": "code",
   "execution_count": null,
   "metadata": {},
   "outputs": [],
   "source": [
    "gc.collect()"
   ]
  },
  {
   "cell_type": "code",
   "execution_count": null,
   "metadata": {},
   "outputs": [],
   "source": [
    "%%time\n",
    "train['passenger_count'] = train['passenger_count'].astype(np.int)"
   ]
  },
  {
   "cell_type": "code",
   "execution_count": null,
   "metadata": {},
   "outputs": [],
   "source": [
    "# there are trips with 0 passengers\n",
    "train['passenger_count'].map(lambda x: 1 if x == 0 else 0).sum()"
   ]
  },
  {
   "cell_type": "code",
   "execution_count": null,
   "metadata": {},
   "outputs": [],
   "source": [
    "# number of fares na or null\n",
    "# print(train['fare_amount'].isna().sum())\n",
    "# print(train['fare_amount'].isnull().sum())"
   ]
  },
  {
   "cell_type": "code",
   "execution_count": null,
   "metadata": {},
   "outputs": [],
   "source": [
    "# number of trips with fares of $0\n",
    "# train['fare_amount'].map(lambda x: 1 if x == 0 else 0).sum()"
   ]
  },
  {
   "cell_type": "code",
   "execution_count": null,
   "metadata": {},
   "outputs": [],
   "source": [
    "train['fare_amount_bin'].value_counts()"
   ]
  },
  {
   "cell_type": "code",
   "execution_count": null,
   "metadata": {},
   "outputs": [],
   "source": [
    "train['fare_amount_bin'].describe()"
   ]
  },
  {
   "cell_type": "code",
   "execution_count": null,
   "metadata": {},
   "outputs": [],
   "source": [
    "train.info()"
   ]
  }
 ],
 "metadata": {
  "kernelspec": {
   "display_name": "Python 3",
   "language": "python",
   "name": "python3"
  },
  "language_info": {
   "codemirror_mode": {
    "name": "ipython",
    "version": 3
   },
   "file_extension": ".py",
   "mimetype": "text/x-python",
   "name": "python",
   "nbconvert_exporter": "python",
   "pygments_lexer": "ipython3",
   "version": "3.6.5"
  }
 },
 "nbformat": 4,
 "nbformat_minor": 2
}
